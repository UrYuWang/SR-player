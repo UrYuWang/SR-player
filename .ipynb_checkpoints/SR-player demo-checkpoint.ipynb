{
 "cells": [
  {
   "cell_type": "markdown",
   "metadata": {},
   "source": [
    "# Demo of the player\n",
    "## CMSC740 Final project\n",
    "## Yu Wang"
   ]
  },
  {
   "cell_type": "markdown",
   "metadata": {},
   "source": [
    "## 1. Play the origin video (run the following code to play the demo video)"
   ]
  },
  {
   "cell_type": "code",
   "execution_count": null,
   "metadata": {},
   "outputs": [],
   "source": [
    "from moviepy.editor import *\n",
    "import pygame\n",
    "\n",
    "video='demo.mp4'\n",
    "# Change to whatever you like to play here\n",
    "lrclip=VideoFileClip(video)\n",
    "lrclip.ipython_display(maxduration=100000)"
   ]
  },
  {
   "cell_type": "markdown",
   "metadata": {},
   "source": [
    "## 2. Play the super-resolutioned video (super-resolutioned from the same video)"
   ]
  },
  {
   "cell_type": "code",
   "execution_count": null,
   "metadata": {},
   "outputs": [],
   "source": [
    "import tensorflow as tf\n",
    "import DCSCN\n",
    "from helper import args\n",
    "from moviepy.video.io.VideoFileClip import VideoFileClip\n",
    "\n",
    "model = DCSCN.SuperResolution(FLAGS, model_name=FLAGS.model_name)\n",
    "model.build_graph()\n",
    "model.build_optimizer()\n",
    "model.build_summary_saver()\n",
    "\n",
    "model.init_all_variables()\n",
    "model.load_model()\n",
    "\n",
    "video='demo.mp4'\n",
    "lrclip=VideoFileClip(video)\n",
    "audioclip=lrclip.audio\n",
    "hrclip=lrclip.fl_image(model.doframe)\n",
    "fhrclip=hrclip.set_audio(audioclip)\n",
    "fhrclip.ipython_display(maxduation=100000)"
   ]
  },
  {
   "cell_type": "markdown",
   "metadata": {},
   "source": [
    "## *To retrain the model"
   ]
  },
  {
   "cell_type": "markdown",
   "metadata": {},
   "source": [
    "python train.py --scale=[the up-scale you want] --dataset=[your data directory]"
   ]
  },
  {
   "cell_type": "markdown",
   "metadata": {},
   "source": [
    "## *To evaluate the model"
   ]
  },
  {
   "cell_type": "markdown",
   "metadata": {},
   "source": [
    "python evaluate.py --test_dataset=[all,set5,set14,bsd100]"
   ]
  },
  {
   "cell_type": "markdown",
   "metadata": {},
   "source": [
    "## *To \"super-resolute\" a picture"
   ]
  },
  {
   "cell_type": "markdown",
   "metadata": {},
   "source": [
    "python sr.py --file=[your_file].png"
   ]
  },
  {
   "cell_type": "markdown",
   "metadata": {},
   "source": [
    "## *To \"super-resolute\" a video"
   ]
  },
  {
   "cell_type": "markdown",
   "metadata": {},
   "source": [
    "python player.py --file=[your_file].mp4"
   ]
  }
 ],
 "metadata": {
  "kernelspec": {
   "display_name": "Python 3",
   "language": "python",
   "name": "python3"
  },
  "language_info": {
   "codemirror_mode": {
    "name": "ipython",
    "version": 3
   },
   "file_extension": ".py",
   "mimetype": "text/x-python",
   "name": "python",
   "nbconvert_exporter": "python",
   "pygments_lexer": "ipython3",
   "version": "3.7.3"
  }
 },
 "nbformat": 4,
 "nbformat_minor": 2
}
